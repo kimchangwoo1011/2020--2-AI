{
  "nbformat": 4,
  "nbformat_minor": 0,
  "metadata": {
    "colab": {
      "name": "01-tf-basic.ipynb",
      "provenance": [],
      "collapsed_sections": [],
      "authorship_tag": "ABX9TyNk3jNO10K0Dk16Ev9FzXap",
      "include_colab_link": true
    },
    "kernelspec": {
      "name": "python3",
      "display_name": "Python 3"
    }
  },
  "cells": [
    {
      "cell_type": "markdown",
      "metadata": {
        "id": "view-in-github",
        "colab_type": "text"
      },
      "source": [
        "<a href=\"https://colab.research.google.com/github/kimchangwoo1011/2020--2-AI/blob/master/code/01_tf_basic.ipynb\" target=\"_parent\"><img src=\"https://colab.research.google.com/assets/colab-badge.svg\" alt=\"Open In Colab\"/></a>"
      ]
    },
    {
      "cell_type": "markdown",
      "metadata": {
        "id": "b88dedbPl_90"
      },
      "source": [
        "\n",
        "# 코렙 시작"
      ]
    },
    {
      "cell_type": "code",
      "metadata": {
        "id": "hJoWHMrUlx2Q",
        "outputId": "0254c972-4e62-447c-b495-07de78038bc3",
        "colab": {
          "base_uri": "https://localhost:8080/",
          "height": 35
        }
      },
      "source": [
        "import tensorflow as tf\n",
        "tf.__version__"
      ],
      "execution_count": 8,
      "outputs": [
        {
          "output_type": "execute_result",
          "data": {
            "application/vnd.google.colaboratory.intrinsic+json": {
              "type": "string"
            },
            "text/plain": [
              "'2.3.0'"
            ]
          },
          "metadata": {
            "tags": []
          },
          "execution_count": 8
        }
      ]
    },
    {
      "cell_type": "code",
      "metadata": {
        "id": "E7oa4hcnc-9-",
        "outputId": "36747ed8-7ade-47ec-dd7f-2a040a188f65",
        "colab": {
          "base_uri": "https://localhost:8080/",
          "height": 34
        }
      },
      "source": [
        "a = tf.constant(5)\n",
        "b = tf.constant(3) \n",
        "print(a+b)\n"
      ],
      "execution_count": 9,
      "outputs": [
        {
          "output_type": "stream",
          "text": [
            "tf.Tensor(8, shape=(), dtype=int32)\n"
          ],
          "name": "stdout"
        }
      ]
    },
    {
      "cell_type": "code",
      "metadata": {
        "id": "23N7wTVOdolC",
        "outputId": "b3b0ebeb-2703-4daf-c8ab-a1ad0cb9ac96",
        "colab": {
          "base_uri": "https://localhost:8080/",
          "height": 52
        }
      },
      "source": [
        "c = tf.constant ('Hello, world!')\n",
        "print(c) \n",
        "print(c.numpy())\n"
      ],
      "execution_count": 11,
      "outputs": [
        {
          "output_type": "stream",
          "text": [
            "tf.Tensor(b'Hello, world!', shape=(), dtype=string)\n",
            "b'Hello, world!'\n"
          ],
          "name": "stdout"
        }
      ]
    },
    {
      "cell_type": "code",
      "metadata": {
        "id": "fmnXyICbndyA",
        "outputId": "9539d6b5-bcfc-4252-a2e6-e64e5a4e72de",
        "colab": {
          "base_uri": "https://localhost:8080/",
          "height": 34
        }
      },
      "source": [
        "a = tf.constant(30)\n",
        "a"
      ],
      "execution_count": null,
      "outputs": [
        {
          "output_type": "execute_result",
          "data": {
            "text/plain": [
              "<tf.Tensor: shape=(), dtype=int32, numpy=30>"
            ]
          },
          "metadata": {
            "tags": []
          },
          "execution_count": 7
        }
      ]
    },
    {
      "cell_type": "code",
      "metadata": {
        "id": "EWktI_BQfYip",
        "outputId": "d9c441c1-f402-4581-9f43-9557c120bf48",
        "colab": {
          "base_uri": "https://localhost:8080/",
          "height": 34
        }
      },
      "source": [
        "a.shape"
      ],
      "execution_count": 12,
      "outputs": [
        {
          "output_type": "execute_result",
          "data": {
            "text/plain": [
              "TensorShape([])"
            ]
          },
          "metadata": {
            "tags": []
          },
          "execution_count": 12
        }
      ]
    },
    {
      "cell_type": "code",
      "metadata": {
        "id": "i9CZ_P3yfgU-",
        "outputId": "a4417b0e-c8bd-4a75-f4ca-652587b49a32",
        "colab": {
          "base_uri": "https://localhost:8080/",
          "height": 34
        }
      },
      "source": [
        "a.dtype"
      ],
      "execution_count": 13,
      "outputs": [
        {
          "output_type": "execute_result",
          "data": {
            "text/plain": [
              "tf.int32"
            ]
          },
          "metadata": {
            "tags": []
          },
          "execution_count": 13
        }
      ]
    },
    {
      "cell_type": "code",
      "metadata": {
        "id": "C93Kjn73fnHH",
        "outputId": "c15ef42b-c45a-41a0-e808-d0c29e07651d",
        "colab": {
          "base_uri": "https://localhost:8080/",
          "height": 34
        }
      },
      "source": [
        "a.numpy()"
      ],
      "execution_count": 14,
      "outputs": [
        {
          "output_type": "execute_result",
          "data": {
            "text/plain": [
              "5"
            ]
          },
          "metadata": {
            "tags": []
          },
          "execution_count": 14
        }
      ]
    },
    {
      "cell_type": "code",
      "metadata": {
        "id": "Bn0G1psWfpxo",
        "outputId": "669fa243-dc38-4eab-a816-12acf8bbfbf7",
        "colab": {
          "base_uri": "https://localhost:8080/",
          "height": 34
        }
      },
      "source": [
        "b = tf.constant(3.)\n",
        "b"
      ],
      "execution_count": 18,
      "outputs": [
        {
          "output_type": "execute_result",
          "data": {
            "text/plain": [
              "<tf.Tensor: shape=(), dtype=float32, numpy=3.0>"
            ]
          },
          "metadata": {
            "tags": []
          },
          "execution_count": 18
        }
      ]
    },
    {
      "cell_type": "code",
      "metadata": {
        "id": "0qSD65fHf0v3",
        "outputId": "e7a0687a-7fdc-402e-8e79-6ebc20434625",
        "colab": {
          "base_uri": "https://localhost:8080/",
          "height": 34
        }
      },
      "source": [
        "b.shape"
      ],
      "execution_count": 19,
      "outputs": [
        {
          "output_type": "execute_result",
          "data": {
            "text/plain": [
              "TensorShape([])"
            ]
          },
          "metadata": {
            "tags": []
          },
          "execution_count": 19
        }
      ]
    },
    {
      "cell_type": "code",
      "metadata": {
        "id": "se5amj_Wf2eG",
        "outputId": "34fefd2a-2f71-4b9e-b576-d77f6cee9102",
        "colab": {
          "base_uri": "https://localhost:8080/",
          "height": 34
        }
      },
      "source": [
        "b.dtype"
      ],
      "execution_count": 20,
      "outputs": [
        {
          "output_type": "execute_result",
          "data": {
            "text/plain": [
              "tf.float32"
            ]
          },
          "metadata": {
            "tags": []
          },
          "execution_count": 20
        }
      ]
    },
    {
      "cell_type": "code",
      "metadata": {
        "id": "y1P8FGLPf4iO",
        "outputId": "cc264d05-8356-4cac-bd05-bd3083830c28",
        "colab": {
          "base_uri": "https://localhost:8080/",
          "height": 34
        }
      },
      "source": [
        "b.numpy()"
      ],
      "execution_count": 21,
      "outputs": [
        {
          "output_type": "execute_result",
          "data": {
            "text/plain": [
              "3.0"
            ]
          },
          "metadata": {
            "tags": []
          },
          "execution_count": 21
        }
      ]
    },
    {
      "cell_type": "code",
      "metadata": {
        "id": "fQOA4qLoggof",
        "outputId": "b234269f-e313-469d-c585-aba30e7148bc",
        "colab": {
          "base_uri": "https://localhost:8080/",
          "height": 34
        }
      },
      "source": [
        "a = tf.constant([1, 2, 3])\n",
        "a.shape\n"
      ],
      "execution_count": 22,
      "outputs": [
        {
          "output_type": "execute_result",
          "data": {
            "text/plain": [
              "TensorShape([3])"
            ]
          },
          "metadata": {
            "tags": []
          },
          "execution_count": 22
        }
      ]
    },
    {
      "cell_type": "code",
      "metadata": {
        "id": "yBt8Pk-ggk6f",
        "outputId": "0225c422-f75e-4f17-be21-6b61f5d7fe1c",
        "colab": {
          "base_uri": "https://localhost:8080/",
          "height": 34
        }
      },
      "source": [
        "a = tf.constant([[1, 2, 3], [4, 5, 6]])\n",
        "a. shape\n"
      ],
      "execution_count": 23,
      "outputs": [
        {
          "output_type": "execute_result",
          "data": {
            "text/plain": [
              "TensorShape([2, 3])"
            ]
          },
          "metadata": {
            "tags": []
          },
          "execution_count": 23
        }
      ]
    },
    {
      "cell_type": "code",
      "metadata": {
        "id": "FAL2IHv5gp7d",
        "outputId": "fb7a097e-117e-4df7-d018-1e0600a4e5f7",
        "colab": {
          "base_uri": "https://localhost:8080/",
          "height": 34
        }
      },
      "source": [
        "a = tf.constant ([[[1, 2, 3], [4, 5, 6]], [[1, 2, 3], [4, 5, 6]]])\n",
        "a. shape\n"
      ],
      "execution_count": 24,
      "outputs": [
        {
          "output_type": "execute_result",
          "data": {
            "text/plain": [
              "TensorShape([2, 2, 3])"
            ]
          },
          "metadata": {
            "tags": []
          },
          "execution_count": 24
        }
      ]
    },
    {
      "cell_type": "code",
      "metadata": {
        "id": "BUWNsjStgvUG",
        "outputId": "b017a427-c4f5-4371-ff90-ceb7f8cd42ef",
        "colab": {
          "base_uri": "https://localhost:8080/",
          "height": 122
        }
      },
      "source": [
        "a"
      ],
      "execution_count": 25,
      "outputs": [
        {
          "output_type": "execute_result",
          "data": {
            "text/plain": [
              "<tf.Tensor: shape=(2, 2, 3), dtype=int32, numpy=\n",
              "array([[[1, 2, 3],\n",
              "        [4, 5, 6]],\n",
              "\n",
              "       [[1, 2, 3],\n",
              "        [4, 5, 6]]], dtype=int32)>"
            ]
          },
          "metadata": {
            "tags": []
          },
          "execution_count": 25
        }
      ]
    },
    {
      "cell_type": "code",
      "metadata": {
        "id": "NlNnWMkchaOA",
        "outputId": "6865f118-28ba-4139-dd77-6d8fdb0b1a9a",
        "colab": {
          "base_uri": "https://localhost:8080/",
          "height": 52
        }
      },
      "source": [
        "x = tf.constant (1.)\n",
        "bool = tf.constant(True) \n",
        "res = tf.cond(bool, lambda: tf.add(x, 1.), lambda: tf.add(x, 10.))\n",
        "\n",
        "print(res)\n",
        "print(res.numpy())\n"
      ],
      "execution_count": 27,
      "outputs": [
        {
          "output_type": "stream",
          "text": [
            "tf.Tensor(2.0, shape=(), dtype=float32)\n",
            "2.0\n"
          ],
          "name": "stdout"
        }
      ]
    },
    {
      "cell_type": "code",
      "metadata": {
        "id": "NL1u8nLVhlFl",
        "outputId": "f73e9502-406f-4960-8a59-a65011b615e5",
        "colab": {
          "base_uri": "https://localhost:8080/",
          "height": 34
        }
      },
      "source": [
        "x = tf.constant(2)\n",
        "y = tf.constant(5) \n",
        "def f1(): return tf.multiply(x, 17) \n",
        "def f2(): return tf.add(y, 23) \n",
        "r = tf.cond(tf.less(x, y), f1, f2)\n",
        "\n",
        "r.numpy()\n"
      ],
      "execution_count": 28,
      "outputs": [
        {
          "output_type": "execute_result",
          "data": {
            "text/plain": [
              "34"
            ]
          },
          "metadata": {
            "tags": []
          },
          "execution_count": 28
        }
      ]
    },
    {
      "cell_type": "code",
      "metadata": {
        "id": "NBXdPbA-iJn2",
        "outputId": "34fc6909-72b6-4eb7-e2eb-ea3041a22755",
        "colab": {
          "base_uri": "https://localhost:8080/",
          "height": 34
        }
      },
      "source": [
        "# 1차원 배열 텐서\n",
        "t = tf.constant([1, 2, 3])\n",
        "t"
      ],
      "execution_count": 29,
      "outputs": [
        {
          "output_type": "execute_result",
          "data": {
            "text/plain": [
              "<tf.Tensor: shape=(3,), dtype=int32, numpy=array([1, 2, 3], dtype=int32)>"
            ]
          },
          "metadata": {
            "tags": []
          },
          "execution_count": 29
        }
      ]
    },
    {
      "cell_type": "code",
      "metadata": {
        "id": "mt5O28rMiR0N",
        "outputId": "a234b261-30f5-4304-c59e-d39ae3e92964",
        "colab": {
          "base_uri": "https://localhost:8080/",
          "height": 34
        }
      },
      "source": [
        "x = tf.constant([1, 2, 3])\n",
        "y = tf.constant ([5, 6, 7])\n",
        "print((x+y).numpy())\n"
      ],
      "execution_count": 32,
      "outputs": [
        {
          "output_type": "stream",
          "text": [
            "[ 6  8 10]\n"
          ],
          "name": "stdout"
        }
      ]
    },
    {
      "cell_type": "code",
      "metadata": {
        "id": "u1j8aOcYibye",
        "outputId": "53294311-314a-4983-cd9d-75410cb8badb",
        "colab": {
          "base_uri": "https://localhost:8080/",
          "height": 70
        }
      },
      "source": [
        "a = tf.constant([5], dtype=tf.float32)\n",
        "b = tf.constant([10], dtype=tf.float32) \n",
        "c = tf.constant([2], dtype=tf.float32) \n",
        "print(a.numpy())\n",
        "d = a * b + c\n",
        "print(d) \n",
        "print(d.numpy())\n"
      ],
      "execution_count": 35,
      "outputs": [
        {
          "output_type": "stream",
          "text": [
            "[5.]\n",
            "tf.Tensor([52.], shape=(1,), dtype=float32)\n",
            "[52.]\n"
          ],
          "name": "stdout"
        }
      ]
    },
    {
      "cell_type": "code",
      "metadata": {
        "id": "crPRLcFXjEQe",
        "outputId": "df7c0644-7762-4fee-8bd1-5c2a989e2334",
        "colab": {
          "base_uri": "https://localhost:8080/",
          "height": 87
        }
      },
      "source": [
        "x = tf.constant([[0], [10], [20], [30]])\n",
        "y = tf.constant ([0, 1, 2])\n",
        "\n",
        "print((x+y). numpy())\n"
      ],
      "execution_count": 36,
      "outputs": [
        {
          "output_type": "stream",
          "text": [
            "[[ 0  1  2]\n",
            " [10 11 12]\n",
            " [20 21 22]\n",
            " [30 31 32]]\n"
          ],
          "name": "stdout"
        }
      ]
    },
    {
      "cell_type": "code",
      "metadata": {
        "id": "gQMvtTuijH-E",
        "outputId": "620e1c74-fac1-4f44-dcea-f4fc0b8fbbdc",
        "colab": {
          "base_uri": "https://localhost:8080/",
          "height": 158
        }
      },
      "source": [
        "import numpy as np\n",
        "\n",
        "print(np.arange(3)) \n",
        "print(np.ones((3, 3))) \n",
        "print()\n",
        "x = tf.constant((np.arange(3))) \n",
        "y = tf.constant([5], dtype=tf.int64) \n",
        "print(x)\n",
        "print(y) \n",
        "print(x+y)\n"
      ],
      "execution_count": 39,
      "outputs": [
        {
          "output_type": "stream",
          "text": [
            "[0 1 2]\n",
            "[[1. 1. 1.]\n",
            " [1. 1. 1.]\n",
            " [1. 1. 1.]]\n",
            "\n",
            "tf.Tensor([0 1 2], shape=(3,), dtype=int64)\n",
            "tf.Tensor([5], shape=(1,), dtype=int64)\n",
            "tf.Tensor([5 6 7], shape=(3,), dtype=int64)\n"
          ],
          "name": "stdout"
        }
      ]
    },
    {
      "cell_type": "code",
      "metadata": {
        "id": "IsR-RJd1kTrV",
        "outputId": "30a96a4c-45a9-4c9a-d92e-4a048ddeafbf",
        "colab": {
          "base_uri": "https://localhost:8080/",
          "height": 140
        }
      },
      "source": [
        "x = tf.constant ((np.arange(3)))\n",
        "y = tf.constant ([5], dtype=tf.int64) \n",
        "print((x+y).numpy())\n",
        "\n",
        "x = tf.constant((np.ones((3, 3)))) \n",
        "y = tf.constant (np.arange(3), dtype=tf.double) \n",
        "print((x+y).numpy())\n",
        "\n",
        "x = tf.constant(np.arange(3).reshape(3, 1)) \n",
        "y = tf.constant(np.arange(3)) \n",
        "print ((x+y).numpy())\n"
      ],
      "execution_count": 42,
      "outputs": [
        {
          "output_type": "stream",
          "text": [
            "[5 6 7]\n",
            "[[1. 2. 3.]\n",
            " [1. 2. 3.]\n",
            " [1. 2. 3.]]\n",
            "[[0 1 2]\n",
            " [1 2 3]\n",
            " [2 3 4]]\n"
          ],
          "name": "stdout"
        }
      ]
    },
    {
      "cell_type": "code",
      "metadata": {
        "id": "POMvnkm6lVcm",
        "outputId": "fe3c987a-bb79-4ac6-96e5-5f3c7b9ecd5c",
        "colab": {
          "base_uri": "https://localhost:8080/",
          "height": 34
        }
      },
      "source": [
        "a = 2\n",
        "b = 3 \n",
        "c = tf.add(a, b) \n",
        "print(c.numpy())\n"
      ],
      "execution_count": 46,
      "outputs": [
        {
          "output_type": "stream",
          "text": [
            "5\n"
          ],
          "name": "stdout"
        }
      ]
    },
    {
      "cell_type": "code",
      "metadata": {
        "id": "-gXbtg3slzrr",
        "outputId": "d6460abb-dfcb-4511-b5bb-2ff0b55db393",
        "colab": {
          "base_uri": "https://localhost:8080/",
          "height": 34
        }
      },
      "source": [
        "x = 2\n",
        "y = 3 \n",
        "add_op = tf.add(x, y) \n",
        "mul_op = tf.multiply(x, y) \n",
        "pow_op = tf.pow(add_op, mul_op)\n",
        "\n",
        "print(pow_op.numpy())\n"
      ],
      "execution_count": 47,
      "outputs": [
        {
          "output_type": "stream",
          "text": [
            "15625\n"
          ],
          "name": "stdout"
        }
      ]
    },
    {
      "cell_type": "code",
      "metadata": {
        "id": "Hb26PYl9l_WO",
        "outputId": "5c563163-10d4-4798-b862-c705838eb5f8",
        "colab": {
          "base_uri": "https://localhost:8080/",
          "height": 52
        }
      },
      "source": [
        "a = tf.constant (2.)\n",
        "b = tf.constant (3.) \n",
        "c = tf.constant (5.)\n",
        "\n",
        "# Some more operations. \n",
        "mean = tf.reduce_mean([a, b, c]) \n",
        "sum = tf.reduce_sum([a, b, c])\n",
        "\n",
        "print(\"mean = \", mean.numpy()) \n",
        "print(\"sum = \", sum.numpy())\n"
      ],
      "execution_count": 49,
      "outputs": [
        {
          "output_type": "stream",
          "text": [
            "mean =  3.3333333\n",
            "sum =  10.0\n"
          ],
          "name": "stdout"
        }
      ]
    },
    {
      "cell_type": "code",
      "metadata": {
        "id": "mZkIfZWCnGkS",
        "outputId": "4c5622c0-fc1f-4e92-fc4a-b0124e3d3010",
        "colab": {
          "base_uri": "https://localhost:8080/",
          "height": 87
        }
      },
      "source": [
        "# Matrix multiplications 1\n",
        "matrix1 = tf.constant([[1., 2.], [3., 4.]]) \n",
        "matrix2 = tf.constant([[2., 0.], [1., 2.]])\n",
        "\n",
        "gop = tf.matmul(matrix1, matrix2) \n",
        "print(gop.numpy())\n",
        "\n",
        "# Matrix multiplications 2 \n",
        "gop = tf.matmul(matrix2, matrix1) \n",
        "print(gop.numpy())\n"
      ],
      "execution_count": 52,
      "outputs": [
        {
          "output_type": "stream",
          "text": [
            "[[ 4.  4.]\n",
            " [10.  8.]]\n",
            "[[ 2.  4.]\n",
            " [ 7. 10.]]\n"
          ],
          "name": "stdout"
        }
      ]
    }
  ]
}