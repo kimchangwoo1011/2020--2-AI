{
  "nbformat": 4,
  "nbformat_minor": 0,
  "metadata": {
    "colab": {
      "name": "03-tf-random.ipynb",
      "provenance": [],
      "authorship_tag": "ABX9TyNtmdhocaqw9Brt5gH9sfGd",
      "include_colab_link": true
    },
    "kernelspec": {
      "name": "python3",
      "display_name": "Python 3"
    }
  },
  "cells": [
    {
      "cell_type": "markdown",
      "metadata": {
        "id": "view-in-github",
        "colab_type": "text"
      },
      "source": [
        "<a href=\"https://colab.research.google.com/github/kimchangwoo1011/2020--2-AI/blob/master/code/03_tf_random.ipynb\" target=\"_parent\"><img src=\"https://colab.research.google.com/assets/colab-badge.svg\" alt=\"Open In Colab\"/></a>"
      ]
    },
    {
      "cell_type": "code",
      "metadata": {
        "id": "E7Le_p4-v-0y",
        "outputId": "afb4eea4-a349-4d5e-8219-63b75aa42eb1",
        "colab": {
          "base_uri": "https://localhost:8080/",
          "height": 35
        }
      },
      "source": [
        "import tensorflow as tf\n",
        "tf.__version__"
      ],
      "execution_count": 8,
      "outputs": [
        {
          "output_type": "execute_result",
          "data": {
            "application/vnd.google.colaboratory.intrinsic+json": {
              "type": "string"
            },
            "text/plain": [
              "'2.3.0'"
            ]
          },
          "metadata": {
            "tags": []
          },
          "execution_count": 8
        }
      ]
    },
    {
      "cell_type": "code",
      "metadata": {
        "id": "4yl1CS7Oxkk1",
        "outputId": "b3906829-9d4e-4ddb-a624-b2ed8fc04bda",
        "colab": {
          "base_uri": "https://localhost:8080/",
          "height": 34
        }
      },
      "source": [
        "# 3.7 랜덤한 수 얻기 (균일 분포)\n",
        "rand = tf.random.uniform([1],0,1)\n",
        "print(rand)"
      ],
      "execution_count": 12,
      "outputs": [
        {
          "output_type": "stream",
          "text": [
            "tf.Tensor([0.57013047], shape=(1,), dtype=float32)\n"
          ],
          "name": "stdout"
        }
      ]
    },
    {
      "cell_type": "code",
      "metadata": {
        "id": "I6Nzp7I0yDzL",
        "outputId": "182167bc-9e3f-4094-f4c0-fe122062d6d1",
        "colab": {
          "base_uri": "https://localhost:8080/",
          "height": 122
        }
      },
      "source": [
        " rand = tf.random.uniform([5, 4],0,1) \n",
        " print(rand)"
      ],
      "execution_count": 14,
      "outputs": [
        {
          "output_type": "stream",
          "text": [
            "tf.Tensor(\n",
            "[[0.09650469 0.77984405 0.6797626  0.30011237]\n",
            " [0.06291664 0.2181468  0.2902459  0.5133357 ]\n",
            " [0.06499243 0.4950652  0.0619601  0.58143497]\n",
            " [0.27075827 0.56272566 0.49225688 0.42201817]\n",
            " [0.03675222 0.0286845  0.2400856  0.14087129]], shape=(5, 4), dtype=float32)\n"
          ],
          "name": "stdout"
        }
      ]
    },
    {
      "cell_type": "code",
      "metadata": {
        "id": "kZuORTWHyVnq",
        "outputId": "27e39d37-ee11-476e-a21f-0be65ca0c648",
        "colab": {
          "base_uri": "https://localhost:8080/",
          "height": 70
        }
      },
      "source": [
        "rand = tf.random.uniform([1000],0,10) \n",
        "print(rand [:10])"
      ],
      "execution_count": 15,
      "outputs": [
        {
          "output_type": "stream",
          "text": [
            "tf.Tensor(\n",
            "[2.0607722  7.279086   3.754468   2.291441   8.034075   0.98317146\n",
            " 2.535565   6.6945243  2.8576446  5.2531567 ], shape=(10,), dtype=float32)\n"
          ],
          "name": "stdout"
        }
      ]
    },
    {
      "cell_type": "code",
      "metadata": {
        "id": "0S0jXTBbytEB",
        "outputId": "acf1d803-6757-4054-d4d6-f6da0cf810e7",
        "colab": {
          "base_uri": "https://localhost:8080/",
          "height": 370
        }
      },
      "source": [
        "import matplotlib.pyplot as plt \n",
        "rand = tf.random.uniform([10000],0,50) \n",
        "plt.hist(rand, bins=10)"
      ],
      "execution_count": 16,
      "outputs": [
        {
          "output_type": "execute_result",
          "data": {
            "text/plain": [
              "(array([1022., 1047., 1022.,  946.,  949.,  973., 1010., 1020., 1011.,\n",
              "        1000.]),\n",
              " array([2.5689602e-03, 5.0018167e+00, 1.0001065e+01, 1.5000313e+01,\n",
              "        1.9999561e+01, 2.4998808e+01, 2.9998056e+01, 3.4997303e+01,\n",
              "        3.9996552e+01, 4.4995800e+01, 4.9995049e+01], dtype=float32),\n",
              " <a list of 10 Patch objects>)"
            ]
          },
          "metadata": {
            "tags": []
          },
          "execution_count": 16
        },
        {
          "output_type": "display_data",
          "data": {
            "image/png": "[encoded data removed]",
            "text/plain": [
              "<Figure size 432x288 with 1 Axes>"
            ]
          },
          "metadata": {
            "tags": [],
            "needs_background": "light"
          }
        }
      ]
    },
    {
      "cell_type": "code",
      "metadata": {
        "id": "OUmuxLOyzKBx",
        "outputId": "14911be3-e692-4338-9985-8ff09295c09e",
        "colab": {
          "base_uri": "https://localhost:8080/",
          "height": 34
        }
      },
      "source": [
        "# 3.9 랜덤한 수 여러 개 얻기 (정규 분포)\n",
        "rand = tf.random.normal([4],0,1) \n",
        "print (rand)\n"
      ],
      "execution_count": 17,
      "outputs": [
        {
          "output_type": "stream",
          "text": [
            "tf.Tensor([-0.43860185  0.3389656  -1.4002858  -0.24376439], shape=(4,), dtype=float32)\n"
          ],
          "name": "stdout"
        }
      ]
    },
    {
      "cell_type": "code",
      "metadata": {
        "id": "MGtowGklzNhp",
        "outputId": "b6026673-c205-4c42-aaf3-e26cd40caa89",
        "colab": {
          "base_uri": "https://localhost:8080/",
          "height": 70
        }
      },
      "source": [
        "# 3.9 랜덤한 수 여러 개 얻기 (정규 분포)\n",
        "rand = tf.random.normal([2, 4],0,2) \n",
        "print (rand)\n"
      ],
      "execution_count": 20,
      "outputs": [
        {
          "output_type": "stream",
          "text": [
            "tf.Tensor(\n",
            "[[ 0.6747998   0.32971087 -0.39325535 -2.5320663 ]\n",
            " [-1.644898   -0.34356502  4.154095   -1.0391711 ]], shape=(2, 4), dtype=float32)\n"
          ],
          "name": "stdout"
        }
      ]
    },
    {
      "cell_type": "code",
      "metadata": {
        "id": "z5ftvB5ozrt5",
        "outputId": "c6f04b56-9677-48f3-a029-cbc01bebc998",
        "colab": {
          "base_uri": "https://localhost:8080/",
          "height": 353
        }
      },
      "source": [
        "import matplotlib.pyplot as plt \n",
        "rand = tf.random.normal([100], 0, 1)\n",
        "plt.hist(rand, bins=10)"
      ],
      "execution_count": 23,
      "outputs": [
        {
          "output_type": "execute_result",
          "data": {
            "text/plain": [
              "(array([ 1.,  3.,  8., 13., 20., 18., 27.,  4.,  3.,  3.]),\n",
              " array([-2.7248847 , -2.2119908 , -1.6990967 , -1.1862028 , -0.67330873,\n",
              "        -0.1604147 ,  0.3524793 ,  0.8653733 ,  1.3782673 ,  1.8911613 ,\n",
              "         2.4040554 ], dtype=float32),\n",
              " <a list of 10 Patch objects>)"
            ]
          },
          "metadata": {
            "tags": []
          },
          "execution_count": 23
        },
        {
          "output_type": "display_data",
          "data": {
            "image/png": "[encoded data removed]",
            "text/plain": [
              "<Figure size 432x288 with 1 Axes>"
            ]
          },
          "metadata": {
            "tags": [],
            "needs_background": "light"
          }
        }
      ]
    },
    {
      "cell_type": "code",
      "metadata": {
        "id": "eX893CEN0NXp",
        "outputId": "e946095e-40da-4d34-83c0-90651eb64bf9",
        "colab": {
          "base_uri": "https://localhost:8080/",
          "height": 881
        }
      },
      "source": [
        "import matplotlib.pyplot as plt \n",
        "rand1 = tf.random. normal([1000],0, 1) \n",
        "rand2 = tf.random.uniform( [2000], 0, 1) \n",
        "plt.hist(rand1, bins=100) \n",
        "plt.hist(rand2, bins=100)"
      ],
      "execution_count": 25,
      "outputs": [
        {
          "output_type": "execute_result",
          "data": {
            "text/plain": [
              "(array([24., 13., 28., 24., 22., 23., 18., 20., 21., 19., 22., 16., 19.,\n",
              "        20., 19., 28., 17., 16., 27., 17.,  7., 14., 25., 24., 16., 24.,\n",
              "        23., 28., 23., 16., 17., 22., 19., 18., 12., 17., 19., 19., 20.,\n",
              "        13., 25., 15., 28., 22., 21., 11., 25., 15., 15., 18., 17., 16.,\n",
              "        19., 22., 22., 21., 22., 18., 16., 18., 17., 17., 18., 19., 29.,\n",
              "        13., 32., 22., 22., 15., 22., 21., 18., 26., 14., 22., 18., 18.,\n",
              "        21., 29., 19., 11., 16., 16., 25., 22., 25., 22., 17., 25., 25.,\n",
              "        20., 26., 26., 17., 19., 32., 15., 21., 13.]),\n",
              " array([1.12652779e-04, 1.01008285e-02, 2.00890042e-02, 3.00771799e-02,\n",
              "        4.00653556e-02, 5.00535294e-02, 6.00417070e-02, 7.00298846e-02,\n",
              "        8.00180584e-02, 9.00062323e-02, 9.99944061e-02, 1.09982587e-01,\n",
              "        1.19970761e-01, 1.29958943e-01, 1.39947116e-01, 1.49935290e-01,\n",
              "        1.59923464e-01, 1.69911638e-01, 1.79899812e-01, 1.89887986e-01,\n",
              "        1.99876159e-01, 2.09864348e-01, 2.19852522e-01, 2.29840696e-01,\n",
              "        2.39828870e-01, 2.49817044e-01, 2.59805232e-01, 2.69793391e-01,\n",
              "        2.79781580e-01, 2.89769739e-01, 2.99757928e-01, 3.09746087e-01,\n",
              "        3.19734275e-01, 3.29722434e-01, 3.39710623e-01, 3.49698812e-01,\n",
              "        3.59686971e-01, 3.69675159e-01, 3.79663318e-01, 3.89651507e-01,\n",
              "        3.99639666e-01, 4.09627855e-01, 4.19616044e-01, 4.29604203e-01,\n",
              "        4.39592391e-01, 4.49580550e-01, 4.59568739e-01, 4.69556898e-01,\n",
              "        4.79545087e-01, 4.89533246e-01, 4.99521434e-01, 5.09509623e-01,\n",
              "        5.19497812e-01, 5.29485941e-01, 5.39474130e-01, 5.49462318e-01,\n",
              "        5.59450507e-01, 5.69438636e-01, 5.79426825e-01, 5.89415014e-01,\n",
              "        5.99403203e-01, 6.09391391e-01, 6.19379520e-01, 6.29367709e-01,\n",
              "        6.39355898e-01, 6.49344087e-01, 6.59332216e-01, 6.69320405e-01,\n",
              "        6.79308593e-01, 6.89296782e-01, 6.99284971e-01, 7.09273100e-01,\n",
              "        7.19261289e-01, 7.29249477e-01, 7.39237666e-01, 7.49225855e-01,\n",
              "        7.59213984e-01, 7.69202173e-01, 7.79190361e-01, 7.89178550e-01,\n",
              "        7.99166679e-01, 8.09154868e-01, 8.19143057e-01, 8.29131246e-01,\n",
              "        8.39119434e-01, 8.49107563e-01, 8.59095752e-01, 8.69083941e-01,\n",
              "        8.79072130e-01, 8.89060259e-01, 8.99048448e-01, 9.09036636e-01,\n",
              "        9.19024825e-01, 9.29013014e-01, 9.39001143e-01, 9.48989332e-01,\n",
              "        9.58977520e-01, 9.68965709e-01, 9.78953838e-01, 9.88942027e-01,\n",
              "        9.98930216e-01], dtype=float32),\n",
              " <a list of 100 Patch objects>)"
            ]
          },
          "metadata": {
            "tags": []
          },
          "execution_count": 25
        },
        {
          "output_type": "display_data",
          "data": {
            "image/png": "[encoded data removed]",
            "text/plain": [
              "<Figure size 432x288 with 1 Axes>"
            ]
          },
          "metadata": {
            "tags": [],
            "needs_background": "light"
          }
        }
      ]
    },
    {
      "cell_type": "code",
      "metadata": {
        "id": "te8IRFU-0aLC",
        "outputId": "78ccabaf-c8fc-4555-af39-b457b9f80c2d",
        "colab": {
          "base_uri": "https://localhost:8080/",
          "height": 990
        }
      },
      "source": [
        "import matplotlib.pyplot as plt \n",
        "rand1 = tf.random. normal([1000], 0, 1) \n",
        "rand2 = tf.random.uniform( [2000], 0, 1)\n",
        "\n",
        "plt.rcParams [\"figure.figsize\"] = (12,6) \n",
        "fig, axes = plt. subplots(1, 2, sharex=True, sharey=True) \n",
        "axes[0].hist(rand1, bins=100) \n",
        "axes[1] .hist(rand2, bins=100)\n"
      ],
      "execution_count": 27,
      "outputs": [
        {
          "output_type": "execute_result",
          "data": {
            "text/plain": [
              "(array([26., 26., 17., 29., 11., 19., 22., 24., 12., 20., 16., 21., 17.,\n",
              "        24., 21., 14., 23., 26., 17., 16., 17., 20., 21., 16., 23., 34.,\n",
              "        19., 13., 23., 32., 21., 16., 22., 17., 25., 25., 16., 14., 24.,\n",
              "        18., 23., 16., 18., 17., 19., 26., 18., 13., 18., 30., 24., 18.,\n",
              "        23., 23., 21., 14., 16., 21., 26., 20., 21., 18., 21., 23., 24.,\n",
              "        17., 20., 27., 21., 20., 17., 21., 21., 19., 27., 24., 21., 25.,\n",
              "        18., 16., 14., 18., 20., 20., 15.,  7., 20., 17., 17., 19., 20.,\n",
              "        16., 19., 14., 24., 20., 18., 20., 21., 19.]),\n",
              " array([2.5713444e-04, 1.0248046e-02, 2.0238958e-02, 3.0229868e-02,\n",
              "        4.0220782e-02, 5.0211690e-02, 6.0202602e-02, 7.0193514e-02,\n",
              "        8.0184430e-02, 9.0175338e-02, 1.0016625e-01, 1.1015716e-01,\n",
              "        1.2014807e-01, 1.3013898e-01, 1.4012989e-01, 1.5012081e-01,\n",
              "        1.6011173e-01, 1.7010263e-01, 1.8009354e-01, 1.9008446e-01,\n",
              "        2.0007536e-01, 2.1006627e-01, 2.2005719e-01, 2.3004811e-01,\n",
              "        2.4003901e-01, 2.5002992e-01, 2.6002082e-01, 2.7001175e-01,\n",
              "        2.8000265e-01, 2.8999355e-01, 2.9998448e-01, 3.0997539e-01,\n",
              "        3.1996632e-01, 3.2995722e-01, 3.3994812e-01, 3.4993905e-01,\n",
              "        3.5992995e-01, 3.6992085e-01, 3.7991178e-01, 3.8990268e-01,\n",
              "        3.9989358e-01, 4.0988451e-01, 4.1987541e-01, 4.2986631e-01,\n",
              "        4.3985724e-01, 4.4984815e-01, 4.5983908e-01, 4.6982998e-01,\n",
              "        4.7982088e-01, 4.8981181e-01, 4.9980271e-01, 5.0979364e-01,\n",
              "        5.1978451e-01, 5.2977544e-01, 5.3976637e-01, 5.4975724e-01,\n",
              "        5.5974817e-01, 5.6973910e-01, 5.7972997e-01, 5.8972090e-01,\n",
              "        5.9971184e-01, 6.0970271e-01, 6.1969364e-01, 6.2968457e-01,\n",
              "        6.3967550e-01, 6.4966637e-01, 6.5965730e-01, 6.6964823e-01,\n",
              "        6.7963910e-01, 6.8963003e-01, 6.9962096e-01, 7.0961183e-01,\n",
              "        7.1960276e-01, 7.2959369e-01, 7.3958457e-01, 7.4957550e-01,\n",
              "        7.5956643e-01, 7.6955730e-01, 7.7954823e-01, 7.8953916e-01,\n",
              "        7.9953003e-01, 8.0952096e-01, 8.1951189e-01, 8.2950276e-01,\n",
              "        8.3949369e-01, 8.4948462e-01, 8.5947549e-01, 8.6946642e-01,\n",
              "        8.7945735e-01, 8.8944829e-01, 8.9943916e-01, 9.0943009e-01,\n",
              "        9.1942102e-01, 9.2941189e-01, 9.3940282e-01, 9.4939375e-01,\n",
              "        9.5938462e-01, 9.6937555e-01, 9.7936648e-01, 9.8935735e-01,\n",
              "        9.9934828e-01], dtype=float32),\n",
              " <a list of 100 Patch objects>)"
            ]
          },
          "metadata": {
            "tags": []
          },
          "execution_count": 27
        },
        {
          "output_type": "display_data",
          "data": {
            "image/png": "[encoded data removed]",
            "text/plain": [
              "<Figure size 864x432 with 2 Axes>"
            ]
          },
          "metadata": {
            "tags": [],
            "needs_background": "light"
          }
        }
      ]
    },
    {
      "cell_type": "code",
      "metadata": {
        "id": "rea05Z4w1UCB",
        "outputId": "417e6b2a-310b-4c01-811c-27b6c95c9f47",
        "colab": {
          "base_uri": "https://localhost:8080/",
          "height": 52
        }
      },
      "source": [
        "import numpy as np \n",
        "a = np.arange(10) \n",
        "print(a) \n",
        "tf.random. shuffle(a)"
      ],
      "execution_count": 28,
      "outputs": [
        {
          "output_type": "stream",
          "text": [
            "[0 1 2 3 4 5 6 7 8 9]\n"
          ],
          "name": "stdout"
        },
        {
          "output_type": "execute_result",
          "data": {
            "text/plain": [
              "<tf.Tensor: shape=(10,), dtype=int64, numpy=array([9, 2, 1, 5, 4, 6, 3, 8, 0, 7])>"
            ]
          },
          "metadata": {
            "tags": []
          },
          "execution_count": 28
        }
      ]
    },
    {
      "cell_type": "code",
      "metadata": {
        "id": "ujPVBis81Yfy",
        "outputId": "42764aa1-fb7b-49da-87cd-e9c5e87eab54",
        "colab": {
          "base_uri": "https://localhost:8080/",
          "height": 87
        }
      },
      "source": [
        "import numpy as np \n",
        "a = np.arange(20).reshape(4, 5) \n",
        "a"
      ],
      "execution_count": 31,
      "outputs": [
        {
          "output_type": "execute_result",
          "data": {
            "text/plain": [
              "array([[ 0,  1,  2,  3,  4],\n",
              "       [ 5,  6,  7,  8,  9],\n",
              "       [10, 11, 12, 13, 14],\n",
              "       [15, 16, 17, 18, 19]])"
            ]
          },
          "metadata": {
            "tags": []
          },
          "execution_count": 31
        }
      ]
    },
    {
      "cell_type": "code",
      "metadata": {
        "id": "8yRIpNt91k1Q",
        "outputId": "506c645e-248e-4a90-fe2e-7c2ba7c6d729",
        "colab": {
          "base_uri": "https://localhost:8080/",
          "height": 105
        }
      },
      "source": [
        "tf.random.shuffle(a)"
      ],
      "execution_count": 33,
      "outputs": [
        {
          "output_type": "execute_result",
          "data": {
            "text/plain": [
              "<tf.Tensor: shape=(4, 5), dtype=int64, numpy=\n",
              "array([[15, 16, 17, 18, 19],\n",
              "       [ 5,  6,  7,  8,  9],\n",
              "       [10, 11, 12, 13, 14],\n",
              "       [ 0,  1,  2,  3,  4]])>"
            ]
          },
          "metadata": {
            "tags": []
          },
          "execution_count": 33
        }
      ]
    }
  ]
}